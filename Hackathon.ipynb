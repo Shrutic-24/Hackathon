{
 "cells": [
  {
   "cell_type": "code",
   "execution_count": 52,
   "id": "9d93f837",
   "metadata": {},
   "outputs": [],
   "source": [
    "import pandas as pd"
   ]
  },
  {
   "cell_type": "code",
   "execution_count": 53,
   "id": "f0e0e355",
   "metadata": {},
   "outputs": [],
   "source": [
    "#reading all csv files\n",
    "movie_df=pd.read_csv('movies.csv')\n",
    "rate_df=pd.read_csv('ratings.csv')\n",
    "tags_df=pd.read_csv('tags.csv')\n",
    "link_df=pd.read_csv('links.csv')"
   ]
  },
  {
   "cell_type": "code",
   "execution_count": 54,
   "id": "559ef9e1",
   "metadata": {},
   "outputs": [
    {
     "data": {
      "text/plain": [
       "(9742, 3)"
      ]
     },
     "execution_count": 54,
     "metadata": {},
     "output_type": "execute_result"
    }
   ],
   "source": [
    "#Finding shape of movies dataset \n",
    "movie_df.shape"
   ]
  },
  {
   "cell_type": "code",
   "execution_count": 55,
   "id": "51d899ce",
   "metadata": {},
   "outputs": [
    {
     "data": {
      "text/plain": [
       "(100836, 4)"
      ]
     },
     "execution_count": 55,
     "metadata": {},
     "output_type": "execute_result"
    }
   ],
   "source": [
    "#Finding shape of ratings dataset \n",
    "rate_df.shape"
   ]
  },
  {
   "cell_type": "code",
   "execution_count": 56,
   "id": "b24ff6b1",
   "metadata": {},
   "outputs": [
    {
     "data": {
      "text/html": [
       "<div>\n",
       "<style scoped>\n",
       "    .dataframe tbody tr th:only-of-type {\n",
       "        vertical-align: middle;\n",
       "    }\n",
       "\n",
       "    .dataframe tbody tr th {\n",
       "        vertical-align: top;\n",
       "    }\n",
       "\n",
       "    .dataframe thead th {\n",
       "        text-align: right;\n",
       "    }\n",
       "</style>\n",
       "<table border=\"1\" class=\"dataframe\">\n",
       "  <thead>\n",
       "    <tr style=\"text-align: right;\">\n",
       "      <th></th>\n",
       "      <th>userId</th>\n",
       "      <th>movieId</th>\n",
       "      <th>rating</th>\n",
       "      <th>timestamp</th>\n",
       "    </tr>\n",
       "  </thead>\n",
       "  <tbody>\n",
       "    <tr>\n",
       "      <th>0</th>\n",
       "      <td>1</td>\n",
       "      <td>1</td>\n",
       "      <td>4.0</td>\n",
       "      <td>964982703</td>\n",
       "    </tr>\n",
       "    <tr>\n",
       "      <th>1</th>\n",
       "      <td>1</td>\n",
       "      <td>3</td>\n",
       "      <td>4.0</td>\n",
       "      <td>964981247</td>\n",
       "    </tr>\n",
       "    <tr>\n",
       "      <th>2</th>\n",
       "      <td>1</td>\n",
       "      <td>6</td>\n",
       "      <td>4.0</td>\n",
       "      <td>964982224</td>\n",
       "    </tr>\n",
       "    <tr>\n",
       "      <th>3</th>\n",
       "      <td>1</td>\n",
       "      <td>47</td>\n",
       "      <td>5.0</td>\n",
       "      <td>964983815</td>\n",
       "    </tr>\n",
       "    <tr>\n",
       "      <th>4</th>\n",
       "      <td>1</td>\n",
       "      <td>50</td>\n",
       "      <td>5.0</td>\n",
       "      <td>964982931</td>\n",
       "    </tr>\n",
       "  </tbody>\n",
       "</table>\n",
       "</div>"
      ],
      "text/plain": [
       "   userId  movieId  rating  timestamp\n",
       "0       1        1     4.0  964982703\n",
       "1       1        3     4.0  964981247\n",
       "2       1        6     4.0  964982224\n",
       "3       1       47     5.0  964983815\n",
       "4       1       50     5.0  964982931"
      ]
     },
     "execution_count": 56,
     "metadata": {},
     "output_type": "execute_result"
    }
   ],
   "source": [
    "rate_df.head()"
   ]
  },
  {
   "cell_type": "code",
   "execution_count": 57,
   "id": "2b88ca2b",
   "metadata": {},
   "outputs": [],
   "source": [
    "#Finding number of unique users\n",
    "unique_users=rate_df['userId'].unique()"
   ]
  },
  {
   "cell_type": "code",
   "execution_count": 58,
   "id": "8e271bac",
   "metadata": {},
   "outputs": [
    {
     "name": "stdout",
     "output_type": "stream",
     "text": [
      "Number of unique userIds in ratings.csv: 610\n"
     ]
    }
   ],
   "source": [
    "print(\"Number of unique userIds in ratings.csv:\", len(unique_users))"
   ]
  },
  {
   "cell_type": "markdown",
   "id": "cce4bfcc",
   "metadata": {},
   "source": [
    "movie_df.head()"
   ]
  },
  {
   "cell_type": "code",
   "execution_count": 59,
   "id": "52b674e5",
   "metadata": {},
   "outputs": [
    {
     "data": {
      "text/html": [
       "<div>\n",
       "<style scoped>\n",
       "    .dataframe tbody tr th:only-of-type {\n",
       "        vertical-align: middle;\n",
       "    }\n",
       "\n",
       "    .dataframe tbody tr th {\n",
       "        vertical-align: top;\n",
       "    }\n",
       "\n",
       "    .dataframe thead th {\n",
       "        text-align: right;\n",
       "    }\n",
       "</style>\n",
       "<table border=\"1\" class=\"dataframe\">\n",
       "  <thead>\n",
       "    <tr style=\"text-align: right;\">\n",
       "      <th></th>\n",
       "      <th>movieId</th>\n",
       "      <th>title</th>\n",
       "      <th>genres</th>\n",
       "    </tr>\n",
       "  </thead>\n",
       "  <tbody>\n",
       "    <tr>\n",
       "      <th>0</th>\n",
       "      <td>1</td>\n",
       "      <td>Toy Story (1995)</td>\n",
       "      <td>Adventure|Animation|Children|Comedy|Fantasy</td>\n",
       "    </tr>\n",
       "    <tr>\n",
       "      <th>1</th>\n",
       "      <td>2</td>\n",
       "      <td>Jumanji (1995)</td>\n",
       "      <td>Adventure|Children|Fantasy</td>\n",
       "    </tr>\n",
       "    <tr>\n",
       "      <th>2</th>\n",
       "      <td>3</td>\n",
       "      <td>Grumpier Old Men (1995)</td>\n",
       "      <td>Comedy|Romance</td>\n",
       "    </tr>\n",
       "    <tr>\n",
       "      <th>3</th>\n",
       "      <td>4</td>\n",
       "      <td>Waiting to Exhale (1995)</td>\n",
       "      <td>Comedy|Drama|Romance</td>\n",
       "    </tr>\n",
       "    <tr>\n",
       "      <th>4</th>\n",
       "      <td>5</td>\n",
       "      <td>Father of the Bride Part II (1995)</td>\n",
       "      <td>Comedy</td>\n",
       "    </tr>\n",
       "  </tbody>\n",
       "</table>\n",
       "</div>"
      ],
      "text/plain": [
       "   movieId                               title  \\\n",
       "0        1                    Toy Story (1995)   \n",
       "1        2                      Jumanji (1995)   \n",
       "2        3             Grumpier Old Men (1995)   \n",
       "3        4            Waiting to Exhale (1995)   \n",
       "4        5  Father of the Bride Part II (1995)   \n",
       "\n",
       "                                        genres  \n",
       "0  Adventure|Animation|Children|Comedy|Fantasy  \n",
       "1                   Adventure|Children|Fantasy  \n",
       "2                               Comedy|Romance  \n",
       "3                         Comedy|Drama|Romance  \n",
       "4                                       Comedy  "
      ]
     },
     "execution_count": 59,
     "metadata": {},
     "output_type": "execute_result"
    }
   ],
   "source": [
    "movie_df.head()"
   ]
  },
  {
   "cell_type": "code",
   "execution_count": 60,
   "id": "92fa38c9",
   "metadata": {},
   "outputs": [],
   "source": [
    "# Merging ratings with movies based on movieId\n",
    "merged_data = pd.merge(rate_df, movie_df, on='movieId')"
   ]
  },
  {
   "cell_type": "code",
   "execution_count": 61,
   "id": "72f01661",
   "metadata": {},
   "outputs": [],
   "source": [
    "# Grouping the merged data by movie title and counting the number of ratings for each movie\n",
    "movie_ratings_cnt = merged_data.groupby('title').size()\n",
    "\n",
    "# Finding the movie with the maximum number of ratings\n",
    "movie_max_ratings = movie_ratings_cnt.idxmax()"
   ]
  },
  {
   "cell_type": "code",
   "execution_count": 62,
   "id": "c0993f10",
   "metadata": {},
   "outputs": [
    {
     "name": "stdout",
     "output_type": "stream",
     "text": [
      "Movie with the maximum number of user ratings: Forrest Gump (1994)\n"
     ]
    }
   ],
   "source": [
    "print(\"Movie with the maximum number of user ratings:\", movie_max_ratings)"
   ]
  },
  {
   "cell_type": "code",
   "execution_count": 63,
   "id": "516ec8f3",
   "metadata": {},
   "outputs": [
    {
     "data": {
      "text/html": [
       "<div>\n",
       "<style scoped>\n",
       "    .dataframe tbody tr th:only-of-type {\n",
       "        vertical-align: middle;\n",
       "    }\n",
       "\n",
       "    .dataframe tbody tr th {\n",
       "        vertical-align: top;\n",
       "    }\n",
       "\n",
       "    .dataframe thead th {\n",
       "        text-align: right;\n",
       "    }\n",
       "</style>\n",
       "<table border=\"1\" class=\"dataframe\">\n",
       "  <thead>\n",
       "    <tr style=\"text-align: right;\">\n",
       "      <th></th>\n",
       "      <th>userId</th>\n",
       "      <th>movieId</th>\n",
       "      <th>tag</th>\n",
       "      <th>timestamp</th>\n",
       "    </tr>\n",
       "  </thead>\n",
       "  <tbody>\n",
       "    <tr>\n",
       "      <th>0</th>\n",
       "      <td>2</td>\n",
       "      <td>60756</td>\n",
       "      <td>funny</td>\n",
       "      <td>1445714994</td>\n",
       "    </tr>\n",
       "    <tr>\n",
       "      <th>1</th>\n",
       "      <td>2</td>\n",
       "      <td>60756</td>\n",
       "      <td>Highly quotable</td>\n",
       "      <td>1445714996</td>\n",
       "    </tr>\n",
       "    <tr>\n",
       "      <th>2</th>\n",
       "      <td>2</td>\n",
       "      <td>60756</td>\n",
       "      <td>will ferrell</td>\n",
       "      <td>1445714992</td>\n",
       "    </tr>\n",
       "    <tr>\n",
       "      <th>3</th>\n",
       "      <td>2</td>\n",
       "      <td>89774</td>\n",
       "      <td>Boxing story</td>\n",
       "      <td>1445715207</td>\n",
       "    </tr>\n",
       "    <tr>\n",
       "      <th>4</th>\n",
       "      <td>2</td>\n",
       "      <td>89774</td>\n",
       "      <td>MMA</td>\n",
       "      <td>1445715200</td>\n",
       "    </tr>\n",
       "  </tbody>\n",
       "</table>\n",
       "</div>"
      ],
      "text/plain": [
       "   userId  movieId              tag   timestamp\n",
       "0       2    60756            funny  1445714994\n",
       "1       2    60756  Highly quotable  1445714996\n",
       "2       2    60756     will ferrell  1445714992\n",
       "3       2    89774     Boxing story  1445715207\n",
       "4       2    89774              MMA  1445715200"
      ]
     },
     "execution_count": 63,
     "metadata": {},
     "output_type": "execute_result"
    }
   ],
   "source": [
    "tags_df.head()"
   ]
  },
  {
   "cell_type": "code",
   "execution_count": 64,
   "id": "a50f691b",
   "metadata": {},
   "outputs": [
    {
     "data": {
      "text/html": [
       "<div>\n",
       "<style scoped>\n",
       "    .dataframe tbody tr th:only-of-type {\n",
       "        vertical-align: middle;\n",
       "    }\n",
       "\n",
       "    .dataframe tbody tr th {\n",
       "        vertical-align: top;\n",
       "    }\n",
       "\n",
       "    .dataframe thead th {\n",
       "        text-align: right;\n",
       "    }\n",
       "</style>\n",
       "<table border=\"1\" class=\"dataframe\">\n",
       "  <thead>\n",
       "    <tr style=\"text-align: right;\">\n",
       "      <th></th>\n",
       "      <th>movieId</th>\n",
       "      <th>imdbId</th>\n",
       "      <th>tmdbId</th>\n",
       "    </tr>\n",
       "  </thead>\n",
       "  <tbody>\n",
       "    <tr>\n",
       "      <th>0</th>\n",
       "      <td>1</td>\n",
       "      <td>114709</td>\n",
       "      <td>862.0</td>\n",
       "    </tr>\n",
       "    <tr>\n",
       "      <th>1</th>\n",
       "      <td>2</td>\n",
       "      <td>113497</td>\n",
       "      <td>8844.0</td>\n",
       "    </tr>\n",
       "    <tr>\n",
       "      <th>2</th>\n",
       "      <td>3</td>\n",
       "      <td>113228</td>\n",
       "      <td>15602.0</td>\n",
       "    </tr>\n",
       "    <tr>\n",
       "      <th>3</th>\n",
       "      <td>4</td>\n",
       "      <td>114885</td>\n",
       "      <td>31357.0</td>\n",
       "    </tr>\n",
       "    <tr>\n",
       "      <th>4</th>\n",
       "      <td>5</td>\n",
       "      <td>113041</td>\n",
       "      <td>11862.0</td>\n",
       "    </tr>\n",
       "  </tbody>\n",
       "</table>\n",
       "</div>"
      ],
      "text/plain": [
       "   movieId  imdbId   tmdbId\n",
       "0        1  114709    862.0\n",
       "1        2  113497   8844.0\n",
       "2        3  113228  15602.0\n",
       "3        4  114885  31357.0\n",
       "4        5  113041  11862.0"
      ]
     },
     "execution_count": 64,
     "metadata": {},
     "output_type": "execute_result"
    }
   ],
   "source": [
    "link_df.head()"
   ]
  },
  {
   "cell_type": "code",
   "execution_count": 65,
   "id": "ed609cbc",
   "metadata": {},
   "outputs": [],
   "source": [
    "matrix_movieId=movie_df[movie_df['title'] == 'Matrix, The (1999)']['movieId'].values[0]"
   ]
  },
  {
   "cell_type": "code",
   "execution_count": 66,
   "id": "c0fad484",
   "metadata": {},
   "outputs": [
    {
     "name": "stdout",
     "output_type": "stream",
     "text": [
      "Tags submitted by users for 'Matrix, The (1999)':\n",
      "['martial arts' 'sci-fi' 'alternate universe' 'philosophy'\n",
      " 'post apocalyptic']\n"
     ]
    }
   ],
   "source": [
    "# Filtering tags for the movieId of \"Matrix, The (1999)\"\n",
    "matrix_tags = tags_df[tags_df['movieId'] == matrix_movieId]\n",
    "\n",
    "# Displaying the unique tags for the movie\n",
    "unique_matrix_tags = matrix_tags['tag'].unique()\n",
    "print(\"Tags submitted by users for 'Matrix, The (1999)':\")\n",
    "print(unique_matrix_tags)"
   ]
  },
  {
   "cell_type": "code",
   "execution_count": 67,
   "id": "968bb4a8",
   "metadata": {},
   "outputs": [],
   "source": [
    "terminator_movieId=movie_df[movie_df['title'] == 'Terminator 2: Judgment Day (1991)']['movieId'].values[0]"
   ]
  },
  {
   "cell_type": "code",
   "execution_count": 68,
   "id": "8e99acb6",
   "metadata": {},
   "outputs": [
    {
     "name": "stdout",
     "output_type": "stream",
     "text": [
      "Average user rating for 'Terminator 2: Judgment Day (1991)': 3.970982142857143\n"
     ]
    }
   ],
   "source": [
    "# Filtering ratings for the movieId of \"Terminator 2: Judgment Day (1991)\"\n",
    "terminator_ratings = rate_df[rate_df['movieId'] == terminator_movieId]\n",
    "\n",
    "# Calculating the average user rating for the movie\n",
    "avg_rating = terminator_ratings['rating'].mean()\n",
    "\n",
    "print(\"Average user rating for 'Terminator 2: Judgment Day (1991)':\", avg_rating)"
   ]
  },
  {
   "cell_type": "code",
   "execution_count": 69,
   "id": "1d9dfc17",
   "metadata": {},
   "outputs": [],
   "source": [
    "fightclub_movieId=movie_df[movie_df['title'] == 'Fight Club (1999)']['movieId'].values[0]"
   ]
  },
  {
   "cell_type": "code",
   "execution_count": 70,
   "id": "fed465d1",
   "metadata": {},
   "outputs": [
    {
     "data": {
      "image/png": "[encoded data removed]",
      "text/plain": [
       "<Figure size 800x600 with 1 Axes>"
      ]
     },
     "metadata": {},
     "output_type": "display_data"
    }
   ],
   "source": [
    "# Filtering ratings for the movieId of \"Fight Club (1999)\"\n",
    "fight_club_ratings = rate_df[rate_df['movieId'] == fightclub_movieId]\n",
    "\n",
    "import matplotlib.pyplot as plt\n",
    "# Plotting the distribution of user ratings for \"Fight Club (1999)\"\n",
    "plt.figure(figsize=(8, 6))\n",
    "plt.hist(fight_club_ratings['rating'], bins=10, edgecolor='black')\n",
    "plt.title('Distribution of User Ratings for \"Fight Club (1999)\"')\n",
    "plt.xlabel('Rating')\n",
    "plt.ylabel('Frequency')\n",
    "plt.grid(True)\n",
    "plt.show()"
   ]
  },
  {
   "cell_type": "code",
   "execution_count": 71,
   "id": "2132616c",
   "metadata": {},
   "outputs": [],
   "source": [
    "# Grouping user ratings based on movieId and applying count and mean operations\n",
    "grouped_ratings = rate_df.groupby('movieId').agg({'rating': ['count', 'mean']}).reset_index()\n",
    "grouped_ratings.columns = ['movieId', 'rating_count', 'rating_mean']"
   ]
  },
  {
   "cell_type": "code",
   "execution_count": 72,
   "id": "5df4d9ba",
   "metadata": {},
   "outputs": [],
   "source": [
    "#Applying an inner join on movies and grouped ratings\n",
    "merge_df = pd.merge(movie_df, grouped_ratings, on='movieId', how='inner')"
   ]
  },
  {
   "cell_type": "code",
   "execution_count": 73,
   "id": "7039667f",
   "metadata": {},
   "outputs": [],
   "source": [
    "# Filtering movies with more than 50 user ratings\n",
    "filtered_movies = merge_df[merge_df['rating_count'] > 50]"
   ]
  },
  {
   "cell_type": "code",
   "execution_count": 74,
   "id": "5c6165a6",
   "metadata": {},
   "outputs": [
    {
     "data": {
      "text/html": [
       "<div>\n",
       "<style scoped>\n",
       "    .dataframe tbody tr th:only-of-type {\n",
       "        vertical-align: middle;\n",
       "    }\n",
       "\n",
       "    .dataframe tbody tr th {\n",
       "        vertical-align: top;\n",
       "    }\n",
       "\n",
       "    .dataframe thead th {\n",
       "        text-align: right;\n",
       "    }\n",
       "</style>\n",
       "<table border=\"1\" class=\"dataframe\">\n",
       "  <thead>\n",
       "    <tr style=\"text-align: right;\">\n",
       "      <th></th>\n",
       "      <th>movieId</th>\n",
       "      <th>title</th>\n",
       "      <th>genres</th>\n",
       "      <th>rating_count</th>\n",
       "      <th>rating_mean</th>\n",
       "    </tr>\n",
       "  </thead>\n",
       "  <tbody>\n",
       "    <tr>\n",
       "      <th>0</th>\n",
       "      <td>1</td>\n",
       "      <td>Toy Story (1995)</td>\n",
       "      <td>Adventure|Animation|Children|Comedy|Fantasy</td>\n",
       "      <td>215</td>\n",
       "      <td>3.920930</td>\n",
       "    </tr>\n",
       "    <tr>\n",
       "      <th>1</th>\n",
       "      <td>2</td>\n",
       "      <td>Jumanji (1995)</td>\n",
       "      <td>Adventure|Children|Fantasy</td>\n",
       "      <td>110</td>\n",
       "      <td>3.431818</td>\n",
       "    </tr>\n",
       "    <tr>\n",
       "      <th>2</th>\n",
       "      <td>3</td>\n",
       "      <td>Grumpier Old Men (1995)</td>\n",
       "      <td>Comedy|Romance</td>\n",
       "      <td>52</td>\n",
       "      <td>3.259615</td>\n",
       "    </tr>\n",
       "    <tr>\n",
       "      <th>5</th>\n",
       "      <td>6</td>\n",
       "      <td>Heat (1995)</td>\n",
       "      <td>Action|Crime|Thriller</td>\n",
       "      <td>102</td>\n",
       "      <td>3.946078</td>\n",
       "    </tr>\n",
       "    <tr>\n",
       "      <th>6</th>\n",
       "      <td>7</td>\n",
       "      <td>Sabrina (1995)</td>\n",
       "      <td>Comedy|Romance</td>\n",
       "      <td>54</td>\n",
       "      <td>3.185185</td>\n",
       "    </tr>\n",
       "  </tbody>\n",
       "</table>\n",
       "</div>"
      ],
      "text/plain": [
       "   movieId                    title  \\\n",
       "0        1         Toy Story (1995)   \n",
       "1        2           Jumanji (1995)   \n",
       "2        3  Grumpier Old Men (1995)   \n",
       "5        6              Heat (1995)   \n",
       "6        7           Sabrina (1995)   \n",
       "\n",
       "                                        genres  rating_count  rating_mean  \n",
       "0  Adventure|Animation|Children|Comedy|Fantasy           215     3.920930  \n",
       "1                   Adventure|Children|Fantasy           110     3.431818  \n",
       "2                               Comedy|Romance            52     3.259615  \n",
       "5                        Action|Crime|Thriller           102     3.946078  \n",
       "6                               Comedy|Romance            54     3.185185  "
      ]
     },
     "execution_count": 74,
     "metadata": {},
     "output_type": "execute_result"
    }
   ],
   "source": [
    "filtered_movies.head()"
   ]
  },
  {
   "cell_type": "code",
   "execution_count": 75,
   "id": "bc93fff0",
   "metadata": {},
   "outputs": [
    {
     "name": "stdout",
     "output_type": "stream",
     "text": [
      "Most popular movie based on average user ratings: 277    Shawshank Redemption, The (1994)\n",
      "Name: title, dtype: object\n"
     ]
    }
   ],
   "source": [
    "#finding most popular based on  average user ratings\n",
    "most_popular=filtered_movies[filtered_movies['rating_mean'] == filtered_movies['rating_mean'].max()]\n",
    "\n",
    "print(\"Most popular movie based on average user ratings:\" ,most_popular['title'] )"
   ]
  },
  {
   "cell_type": "code",
   "execution_count": 76,
   "id": "ef7ac422",
   "metadata": {},
   "outputs": [
    {
     "name": "stdout",
     "output_type": "stream",
     "text": [
      "Top 5 popular movies based on number of user ratings:\n",
      "                                 title  rating_count\n",
      "314                Forrest Gump (1994)           329\n",
      "277   Shawshank Redemption, The (1994)           317\n",
      "257                Pulp Fiction (1994)           307\n",
      "510   Silence of the Lambs, The (1991)           279\n",
      "1938                Matrix, The (1999)           278\n"
     ]
    }
   ],
   "source": [
    "# top 5 popular movies based on number of user ratings.\n",
    "top5_popular_movies = filtered_movies.nlargest(5, 'rating_count')\n",
    "\n",
    "print(\"Top 5 popular movies based on number of user ratings:\")\n",
    "print(top5_popular_movies[['title', 'rating_count']])"
   ]
  },
  {
   "cell_type": "code",
   "execution_count": 77,
   "id": "6de68aae",
   "metadata": {},
   "outputs": [],
   "source": [
    "scifi_movie=filtered_movies[filtered_movies['genres'].str.contains('Sci-Fi')]"
   ]
  },
  {
   "cell_type": "code",
   "execution_count": 78,
   "id": "1bd3bbae",
   "metadata": {},
   "outputs": [
    {
     "name": "stdout",
     "output_type": "stream",
     "text": [
      "Third most popular Sci-Fi movie based on number of user ratings:\n",
      "title           Jurassic Park (1993)\n",
      "rating_count                     238\n",
      "Name: 418, dtype: object\n"
     ]
    }
   ],
   "source": [
    "#sorting the Sci-Fi movies by the number of user ratings in descending order\n",
    "sorted_scifi = scifi_movie.nlargest(len(scifi_movie), 'rating_count')\n",
    "\n",
    "# third most popular Sci-Fi movie based on the number of user ratings\n",
    "thirdmost_popular = sorted_scifi.iloc[2]  # Index 2 corresponds to the third movie\n",
    "\n",
    "\n",
    "print(\"Third most popular Sci-Fi movie based on number of user ratings:\")\n",
    "print(thirdmost_popular[['title', 'rating_count']])"
   ]
  },
  {
   "cell_type": "code",
   "execution_count": 79,
   "id": "67f33e0e",
   "metadata": {},
   "outputs": [],
   "source": [
    "# We thought of giving you a gift this new year by sharing the web scraping script\n",
    "# Understanding the script before using is always appreciated\n",
    "# We left few blanks in the script for your exploration\n",
    "# Make sure to replace FILL_IN_THE_BLANK in the code to make it work\n",
    "\n",
    "import requests\n",
    "import numpy as np\n",
    "from bs4 import BeautifulSoup\n",
    "\n",
    "def scrapper(imdbId):\n",
    "    id = str(int(imdbId))\n",
    "    n_zeroes = 7 - len(id)\n",
    "    new_id = \"0\"*n_zeroes + id\n",
    "    URL = f\"https://www.imdb.com/title/tt{new_id}/\"\n",
    "    request_header = {'Content-Type': 'text/html; charset=UTF-8', \n",
    "                      'User-Agent': 'Mozilla/5.0 (Windows NT 10.0; Win64; x64; rv:109.0) Gecko/20100101 Firefox/119.0', \n",
    "                      'Accept-Encoding': 'gzip, deflate, br'}\n",
    "    response = requests.get(URL, headers=request_header)\n",
    "    soup = BeautifulSoup(response.text,'html.parser')\n",
    "    imdb_rating = soup.find('div', class_='ratingValue')\n",
    "    if imdb_rating:\n",
    "        imdb_rating=imdb_rating.find('strong').find('span').text.strip()\n",
    "        return imdb_rating\n",
    "    return np.nan"
   ]
  },
  {
   "cell_type": "code",
   "execution_count": 80,
   "id": "f27ea609",
   "metadata": {},
   "outputs": [],
   "source": [
    "#merge links data with filtered data \n",
    "merge_df2=pd.merge(filtered_movies,link_df,on='movieId',how='inner')"
   ]
  },
  {
   "cell_type": "code",
   "execution_count": 81,
   "id": "b01898a2",
   "metadata": {},
   "outputs": [
    {
     "name": "stdout",
     "output_type": "stream",
     "text": [
      "                                title  imdb_rating\n",
      "0                    Toy Story (1995)          NaN\n",
      "1                      Jumanji (1995)          NaN\n",
      "2             Grumpier Old Men (1995)          NaN\n",
      "3                         Heat (1995)          NaN\n",
      "4                      Sabrina (1995)          NaN\n",
      "..                                ...          ...\n",
      "431   Wolf of Wall Street, The (2013)          NaN\n",
      "432  Grand Budapest Hotel, The (2014)          NaN\n",
      "433               Interstellar (2014)          NaN\n",
      "434    Guardians of the Galaxy (2014)          NaN\n",
      "435                   Deadpool (2016)          NaN\n",
      "\n",
      "[436 rows x 2 columns]\n"
     ]
    }
   ],
   "source": [
    "#Scrapping imdb rating for each movie\n",
    "imdb_ratings=[]\n",
    "for imdbId in merge_df2['imdbId']:\n",
    "    rating=scrapper(imdbId)\n",
    "    imdb_ratings.append(rating)\n",
    "    \n",
    "#Adding scrapped imdb ratings to dataframe\n",
    "merge_df2['imdb_rating']=imdb_ratings\n",
    "print(merge_df2[['title', 'imdb_rating']])"
   ]
  },
  {
   "cell_type": "code",
   "execution_count": 87,
   "id": "03bf6c38",
   "metadata": {},
   "outputs": [
    {
     "name": "stdout",
     "output_type": "stream",
     "text": [
      "No valid data found in the 'imdb_rating' column after handling NaN values.\n"
     ]
    }
   ],
   "source": [
    "# Convert 'imdb_rating' column to numeric values for further analysis\n",
    "merge_df2['imdb_rating'] = pd.to_numeric(merge_df2['imdb_rating'], errors='coerce')\n",
    "\n",
    "# Drop rows with NaN IMDb ratings\n",
    "merge_df2.dropna(subset=['imdb_rating'], inplace=True)\n",
    "\n",
    "if not merge_df2.empty:\n",
    "    # Find the movie with the highest IMDB rating\n",
    "    highest_imdb_movie = merge_df2.loc[merge_df2['imdb_rating'].idxmax()]\n",
    "\n",
    "    print(\"Movie with the highest IMDB rating - Movie ID:\", highest_imdb_movie['movieId'])\n",
    "else:\n",
    "    print(\"No valid data found in the 'imdb_rating' column after handling NaN values.\")\n"
   ]
  },
  {
   "cell_type": "code",
   "execution_count": 88,
   "id": "ee81a809",
   "metadata": {},
   "outputs": [
    {
     "name": "stdout",
     "output_type": "stream",
     "text": [
      "Unique IMDb Ratings: []\n"
     ]
    }
   ],
   "source": [
    "unique_ratings = merge_df2['imdb_rating'].unique()\n",
    "print(\"Unique IMDb Ratings:\", unique_ratings)"
   ]
  },
  {
   "cell_type": "code",
   "execution_count": 82,
   "id": "f4dd03db",
   "metadata": {},
   "outputs": [],
   "source": [
    "# Converting column to numeric values for further analysis\n",
    "merge_df2['imdb_rating'] = pd.to_numeric(merge_df2['imdb_rating'], errors='coerce')"
   ]
  },
  {
   "cell_type": "code",
   "execution_count": 83,
   "id": "d806d8f4",
   "metadata": {},
   "outputs": [],
   "source": [
    "# Remove rows with NaN IMDb ratings\n",
    "merge_df2 = merge_df2.dropna(subset=['imdb_rating'])"
   ]
  },
  {
   "cell_type": "code",
   "execution_count": 84,
   "id": "2da04f24",
   "metadata": {},
   "outputs": [
    {
     "name": "stdout",
     "output_type": "stream",
     "text": [
      "Not found\n"
     ]
    }
   ],
   "source": [
    "#movie with the highest IMDB rating\n",
    "if not merge_df2.empty:\n",
    "    highest_imdb= merge_df2.loc[merge_df2['imdb_rating'].idxmax()]\n",
    "\n",
    "    print(\"Movie with the highest IMDB rating - Movie ID:\", highest_imdb['movieId'])\n",
    "else:\n",
    "    print(\"Not found\")"
   ]
  },
  {
   "cell_type": "code",
   "execution_count": 51,
   "id": "b0eed139",
   "metadata": {},
   "outputs": [
    {
     "name": "stdout",
     "output_type": "stream",
     "text": [
      "No Sci-Fi movies found in the dataset after handling NaN IMDb ratings\n"
     ]
    }
   ],
   "source": [
    "#Sci-Fi movie with the highest IMDB rating\n",
    "scifi_movies = merge_df2[merge_df2['genres'].str.contains('Sci-Fi')]\n",
    "if not scifi_movies.empty:\n",
    "    highest_imdb_scifi= scifi_movies.loc[scifi_movies['imdb_rating'].idxmax(skipna=True)]\n",
    "    print(\"Highest-rated Sci-Fi movie - Movie ID:\", highest_imdb_scifi['movieId'])\n",
    "else:\n",
    "    print('No Sci-Fi movies found in the dataset after handling NaN IMDb ratings')"
   ]
  },
  {
   "cell_type": "code",
   "execution_count": null,
   "id": "3025d711",
   "metadata": {},
   "outputs": [],
   "source": []
  }
 ],
 "metadata": {
  "kernelspec": {
   "display_name": "Python 3 (ipykernel)",
   "language": "python",
   "name": "python3"
  },
  "language_info": {
   "codemirror_mode": {
    "name": "ipython",
    "version": 3
   },
   "file_extension": ".py",
   "mimetype": "text/x-python",
   "name": "python",
   "nbconvert_exporter": "python",
   "pygments_lexer": "ipython3",
   "version": "3.10.4"
  }
 },
 "nbformat": 4,
 "nbformat_minor": 5
}
